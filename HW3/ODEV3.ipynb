{
  "nbformat": 4,
  "nbformat_minor": 0,
  "metadata": {
    "colab": {
      "name": "ODEV3.ipynb",
      "version": "0.3.2",
      "provenance": [],
      "collapsed_sections": []
    },
    "kernelspec": {
      "name": "python3",
      "display_name": "Python 3"
    }
  },
  "cells": [
    {
      "metadata": {
        "id": "y6Erinrc6pu_",
        "colab_type": "code",
        "colab": {}
      },
      "cell_type": "code",
      "source": [
        ""
      ],
      "execution_count": 0,
      "outputs": []
    },
    {
      "metadata": {
        "id": "ybtRr3Mw7qf4",
        "colab_type": "text"
      },
      "cell_type": "markdown",
      "source": [
        "# Bayes’ Theorem"
      ]
    },
    {
      "metadata": {
        "id": "JAJ0SfHSKKkA",
        "colab_type": "text"
      },
      "cell_type": "markdown",
      "source": [
        "is a way to figure out ```conditional probability```. which is the probability of an event happening, given that it has some relationship to one or more other events.\n",
        " "
      ]
    },
    {
      "metadata": {
        "id": "3xzn-IyPKOPs",
        "colab_type": "text"
      },
      "cell_type": "markdown",
      "source": [
        ">  Simply, is a way of finding a probability when we know certain other probabilities!"
      ]
    },
    {
      "metadata": {
        "id": "1nYQxJMr7vc8",
        "colab_type": "text"
      },
      "cell_type": "markdown",
      "source": [
        "## Ex 1"
      ]
    },
    {
      "metadata": {
        "id": "3X1nwfvcKZ39",
        "colab_type": "text"
      },
      "cell_type": "markdown",
      "source": [
        "In three different schools, students entered the final exams. in school A there were 60 students, school B 90 students, and school C 100 students.\n",
        "\n",
        "knowing that the students success rate in school A is 70%, school B 60%, and school C is 60%. \n",
        "\n",
        "If a randomly selected student which has succeeded  in the exams, what is the probability that the student is from school B ?"
      ]
    },
    {
      "metadata": {
        "id": "QbzGCjYnKvl6",
        "colab_type": "code",
        "colab": {}
      },
      "cell_type": "code",
      "source": [
        ""
      ],
      "execution_count": 0,
      "outputs": []
    },
    {
      "metadata": {
        "id": "cf1SYq9JKjRb",
        "colab_type": "text"
      },
      "cell_type": "markdown",
      "source": [
        "## Answer:"
      ]
    },
    {
      "metadata": {
        "id": "wdaTYDKXKlR7",
        "colab_type": "text"
      },
      "cell_type": "markdown",
      "source": [
        "\n",
        "Using Bayes' Theorm formula, \n",
        "\n",
        "<img src=\"https://github.com/ahmedAlraimi/Olasilik/raw/master/HW3/img/Bayes_Theorem.png\" />\n",
        " \n",
        "Pr(H|E) = Chance of being a student in school B (H) given that passing the exams(E). This is what we want to know: How likely is it to have a student in school B who passed all exams?.\n",
        "\n",
        "Pr(E|H) = Chance of successfull student (E) given that student from school B (H). \n",
        "\n",
        "Pr(H) = Chance of school B student.\n",
        "Pr(not H) = Chance of other schools students.\n",
        "Pr(E|not H) = Chance of successfull student (E) given that is not from school B (not H). \n",
        "\n",
        "* School A student: \n",
        "\n",
        "     Pr(H<sub>A</sub>)/E = 60/250 * 0.7\n",
        "\n",
        "* School B student: \n",
        "\n",
        "    Pr(H<sub>B</sub>)/E = 90/250 * 0.6\n",
        "\n",
        "* School C student: \n",
        "\n",
        "  Pr(H<sub>C</sub>)/E = 100/250 * 0.5\n",
        "\n",
        "\n",
        "\n",
        "Pr(H|E) = (90/250) x 0.6 / [  (90/250) × 0.60 + (60/250) × 0.70 + (100/250) × 0.50 ]\n",
        "\n",
        "Pr(H|E) = 0.216 / 0.168 + 0.22 = 0.216/0.604 = 0.358\n",
        "\n"
      ]
    },
    {
      "metadata": {
        "id": "uA0oqU2S8Afw",
        "colab_type": "code",
        "outputId": "6704814a-f862-454e-bdd9-4934dacdd2c3",
        "colab": {
          "base_uri": "https://localhost:8080/",
          "height": 54
        }
      },
      "cell_type": "code",
      "source": [
        "\n",
        "\n",
        "#School A student:\n",
        "\n",
        "PrHA = 60/250\n",
        "\n",
        "#School B student:\n",
        "\n",
        "PrHB = 90/250\n",
        "\n",
        "# School C student:\n",
        "\n",
        "PrHC = 100/250\n",
        "\n",
        "# School A Success :\n",
        "\n",
        "PrEA = 0.7\n",
        "\n",
        "# School B Success :\n",
        "\n",
        "PrEB = 0.6\n",
        "\n",
        "# School C Success :\n",
        "\n",
        "PrEC = 0.5\n",
        "\n",
        "\n",
        "Answer = (PrHB * PrEB) / (PrHB * PrEB + PrHA * PrEA + PrHC * PrEC) \n",
        "print (\"  the probability that the successfull student is from school B = \",end=\"\")\n",
        "print (Answer)\n"
      ],
      "execution_count": 2,
      "outputs": [
        {
          "output_type": "stream",
          "text": [
            "  the probability that the successfull student is from school B = 0.36986301369863006\n"
          ],
          "name": "stdout"
        }
      ]
    }
  ]
}