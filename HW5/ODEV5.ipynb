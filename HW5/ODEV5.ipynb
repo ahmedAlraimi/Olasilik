{
  "nbformat": 4,
  "nbformat_minor": 0,
  "metadata": {
    "colab": {
      "name": "ODEV5.ipynb",
      "version": "0.3.2",
      "provenance": [],
      "collapsed_sections": []
    },
    "kernelspec": {
      "name": "python3",
      "display_name": "Python 3"
    }
  },
  "cells": [
    {
      "cell_type": "markdown",
      "metadata": {
        "id": "ybtRr3Mw7qf4",
        "colab_type": "text"
      },
      "source": [
        "# Binomial Distribution\n"
      ]
    },
    {
      "cell_type": "code",
      "metadata": {
        "id": "7WCI3T5eu9Qg",
        "colab_type": "code",
        "outputId": "376c06ca-7282-4bd6-a515-4ff945c02878",
        "colab": {
          "base_uri": "https://localhost:8080/",
          "height": 34
        }
      },
      "source": [
        "import math\n",
        "\n",
        "\n",
        "# p is the probability of each choice we want\n",
        "p = 0.7\n",
        "\n",
        "# k is the the number of choices we want\n",
        "k = 2\n",
        "\n",
        "# n is the total number of choices\n",
        "n = 3\n",
        "\n",
        "\n",
        "# p^k (1-p)^(n-k) = 0.7^2(1 - 0.7)^(3-2)\n",
        "Answer = (p**k)*((1-p)**(n-k))\n",
        "\n",
        "print (\"  The probabilities for - two chickens- all work out to be= \",end=\"\")\n",
        "print (Answer)\n",
        "\n"
      ],
      "execution_count": 2,
      "outputs": [
        {
          "output_type": "stream",
          "text": [
            "  The probabilities for - two chickens- all work out to be= 0.147\n"
          ],
          "name": "stdout"
        }
      ]
    },
    {
      "cell_type": "markdown",
      "metadata": {
        "colab_type": "text",
        "id": "lTC6F7gC6FjM"
      },
      "source": [
        "# Variance\n"
      ]
    },
    {
      "cell_type": "code",
      "metadata": {
        "id": "1Zdov-7f6Ygu",
        "colab_type": "code",
        "colab": {
          "base_uri": "https://localhost:8080/",
          "height": 34
        },
        "outputId": "661897c9-0765-4408-8395-d218b0a54cdb"
      },
      "source": [
        "\n",
        "# p = P(pass)\n",
        "p = 0.9\n",
        "\n",
        "n = 4\n",
        "\n",
        "\n",
        "Answer =  n * p * (1-p)\n",
        "\n",
        "print (\" For the sports bikes, Variance = \",end=\"\")\n",
        "print (round(Answer, 2))\n",
        "\n"
      ],
      "execution_count": 5,
      "outputs": [
        {
          "output_type": "stream",
          "text": [
            " For the sports bikes, Variance = 0.36\n"
          ],
          "name": "stdout"
        }
      ]
    },
    {
      "cell_type": "markdown",
      "metadata": {
        "id": "OF8IhdyC9Fll",
        "colab_type": "text"
      },
      "source": [
        "# Bernoulli Distribution\n"
      ]
    },
    {
      "cell_type": "code",
      "metadata": {
        "id": "4TFuA_7Q9LpV",
        "colab_type": "code",
        "colab": {
          "base_uri": "https://localhost:8080/",
          "height": 50
        },
        "outputId": "81909414-7f1d-4447-921d-183211786c69"
      },
      "source": [
        "import math\n",
        "\n",
        "# Probability of winning a match\n",
        "p = 0.7\n",
        "\n",
        "n = 3\n",
        "k = 0\n",
        "\n",
        "\n",
        "#Probability of winning zero matches, P(X = 0) = C(3,0) (0.7)0(0.3)3 = 0.027\n",
        "\n",
        "Zero_match = (math.factorial(n) / (math.factorial(n-k) * math.factorial(k))) * ((p**k)*((1-p)**(n-k)))\n",
        "\n",
        "print (\"Probability of winning zero matches = \",end=\"\")\n",
        "print (round(Zero_match, 3))\n",
        "\n",
        "\n",
        "# Probability of winning at least one match = 1 - Zero_match = \n",
        "\n",
        "print (\"Probability of winning at least one match = \",end=\"\")\n",
        "print (round(1- Zero_match, 3))\n",
        "\n",
        "\n"
      ],
      "execution_count": 9,
      "outputs": [
        {
          "output_type": "stream",
          "text": [
            "Probability of winning zero matches = 0.027\n",
            "Probability of winning at least one match = 0.973\n"
          ],
          "name": "stdout"
        }
      ]
    }
  ]
}