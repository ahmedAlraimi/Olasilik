{
  "nbformat": 4,
  "nbformat_minor": 0,
  "metadata": {
    "colab": {
      "name": "Untitled0.ipynb",
      "version": "0.3.2",
      "provenance": [],
      "collapsed_sections": []
    },
    "kernelspec": {
      "name": "python3",
      "display_name": "Python 3"
    }
  },
  "cells": [
    {
      "metadata": {
        "id": "VZsrlvbQ63Vn",
        "colab_type": "text"
      },
      "cell_type": "markdown",
      "source": [
        "# PIGEONHOLE PRINCIPLE :"
      ]
    },
    {
      "metadata": {
        "id": "7vojHVOM61oZ",
        "colab_type": "text"
      },
      "cell_type": "markdown",
      "source": [
        "The Pigeonhole Principle (`also known as the Dirichlet box principle, Dirichlet principle or box principle`) states that if n + 1 or more pigeons are placed in n holes, then one hole must contain two or more pigeons."
      ]
    },
    {
      "metadata": {
        "id": "tT7-KLzd7Ozk",
        "colab_type": "text"
      },
      "cell_type": "markdown",
      "source": [
        "# ![alt text](https://github.com/ahmedAlraimi/Olasilik/raw/master/HW1/img/pigeon.jpg)\n",
        "Figure 1: Pigeonhole Principle Illustration\n",
        "\n",
        "\n",
        "\n"
      ]
    },
    {
      "metadata": {
        "id": "sRyTRMEO7fyI",
        "colab_type": "text"
      },
      "cell_type": "markdown",
      "source": [
        "----\n",
        "Simply, This principle states If more than _n_ objects are placed into _n_  boxes, then at least one box must contain more than one object.\n",
        "----"
      ]
    },
    {
      "metadata": {
        "id": "2nrKS8q47uTH",
        "colab_type": "text"
      },
      "cell_type": "markdown",
      "source": [
        "This principle might appear to be too obvious to be useful; indeed, the power of the principle comes from cleverly choosing the boxes and objects. Even though the principle itself is quite simple, it is not always clear if it is useful and, if so, how. For instance, consider the following example:"
      ]
    },
    {
      "metadata": {
        "id": "xTiTRKYv7369",
        "colab_type": "text"
      },
      "cell_type": "markdown",
      "source": [
        "## Example 1. Fruit Basket"
      ]
    },
    {
      "metadata": {
        "id": "XedcniNd79Mm",
        "colab_type": "text"
      },
      "cell_type": "markdown",
      "source": [
        "A fruit basket contains 4 different pairs of fruits, 2 Banana, 2 apple, 2 orange and 2 strawberry (TOTAL = 8 fruits). Suppose that I need to grap out the fruits without looking at fruits before taking them out. How many fruits must I grap out to make sure that I will get a two of a kind ?"
      ]
    },
    {
      "metadata": {
        "id": "LN0IfQkl8JTo",
        "colab_type": "text"
      },
      "cell_type": "markdown",
      "source": [
        "### Answer :"
      ]
    },
    {
      "metadata": {
        "id": "1xoTV5G28N-P",
        "colab_type": "text"
      },
      "cell_type": "markdown",
      "source": [
        "Based on the question, we can figure out the each of the fruit kind is a `boxes, pigeonhole` and each fruit drawn being is `object , pigeon`\n",
        "\n",
        "According to the question above we can assume that in case graping 1, 2, 3, or 4 fruit(s), it is possible that all may be distinct fruits. Given a selection of let us say 4 fruit, it is likly that one is banana, one is orange one is strawberry ,and one is apple. However, if 5 fruits are chosen, the pigeon principle ensures that two ***must*** be the same. Hence the minimum number of fruit to be graped out is **5**.\n"
      ]
    },
    {
      "metadata": {
        "id": "fDD5H3Ci9TgM",
        "colab_type": "code",
        "colab": {}
      },
      "cell_type": "code",
      "source": [
        "# Preprocess - check entry\n",
        "def preProcess(num):\n",
        "\tif (w_number > 0)  and (w_number  < 9):\n",
        "\t\treturn True\n",
        "\telse:\n",
        "\t\treturn False\n",
        "#End of preProcess\n",
        "\n",
        "\t\n",
        "while True:\n",
        "\tbox = 4 # pigeonhole : number of fruit kinds (banana , apple , orange , and strawberry)\n",
        "\tprint(\"Please enter number of fruits withdrawals (Max : Number of fruits = 8 fruits : \")\n",
        "\tw_number = int(input())  # object , pigeon\n",
        "\tif preProcess(w_number) == True:\n",
        "\t\tif w_number <= box:\n",
        "\t\t\tprint(\" It is possible that all fruits may be distinct - no pigeonhole rule\")\n",
        "\t\telse:\n",
        "\t\t\tif w_number == 8:\n",
        "\t\t\t\tprint(\" all pair matched\")\n",
        "\t\t\telse:\n",
        "\t\t\t\tminimum = w_number % box\n",
        "\t\t\t\tprint(\" It is possible that \" + str(minimum) + \" pair matched\")\n",
        "\t\t\t\n",
        "\telse:\n",
        "\t\tprint(\"Range must be between 1 - 8 \")"
      ],
      "execution_count": 0,
      "outputs": []
    }
  ]
}