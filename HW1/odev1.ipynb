{
  "nbformat": 4,
  "nbformat_minor": 0,
  "metadata": {
    "colab": {
      "name": "Untitled0.ipynb",
      "version": "0.3.2",
      "provenance": []
    },
    "kernelspec": {
      "name": "python3",
      "display_name": "Python 3"
    }
  },
  "cells": [
    {
      "metadata": {
        "id": "VZsrlvbQ63Vn",
        "colab_type": "text"
      },
      "cell_type": "markdown",
      "source": [
        "# PIGEONHOLE PRINCIPLE :"
      ]
    },
    {
      "metadata": {
        "id": "7vojHVOM61oZ",
        "colab_type": "text"
      },
      "cell_type": "markdown",
      "source": [
        "The Pigeonhole Principle (`also known as the Dirichlet box principle, Dirichlet principle or box principle`) states that if n + 1 or more pigeons are placed in n holes, then one hole must contain two or more pigeons."
      ]
    },
    {
      "metadata": {
        "id": "tT7-KLzd7Ozk",
        "colab_type": "text"
      },
      "cell_type": "markdown",
      "source": [
        "# ![alt text](https://github.com/ahmedAlraimi/Olasilik/raw/master/HW1/img/pigeon.jpg)\n",
        "Figure 1: Pigeonhole Principle Illustration\n",
        "\n",
        "\n",
        "\n"
      ]
    },
    {
      "metadata": {
        "id": "sRyTRMEO7fyI",
        "colab_type": "text"
      },
      "cell_type": "markdown",
      "source": [
        "----\n",
        "Simply, This principle states If more than _n_ objects are placed into _n_  boxes, then at least one box must contain more than one object.\n",
        "----"
      ]
    },
    {
      "metadata": {
        "id": "2nrKS8q47uTH",
        "colab_type": "text"
      },
      "cell_type": "markdown",
      "source": [
        "This principle might appear to be too obvious to be useful; indeed, the power of the principle comes from cleverly choosing the boxes and objects. Even though the principle itself is quite simple, it is not always clear if it is useful and, if so, how. For instance, consider the following example:"
      ]
    },
    {
      "metadata": {
        "id": "xTiTRKYv7369",
        "colab_type": "text"
      },
      "cell_type": "markdown",
      "source": [
        "## Example 1. Fruit Basket"
      ]
    },
    {
      "metadata": {
        "id": "XedcniNd79Mm",
        "colab_type": "text"
      },
      "cell_type": "markdown",
      "source": [
        "A fruit basket contains 4 different pairs of fruits, 2 Banana, 2 apple, 2 orange and 2 strawberry (TOTAL = 8 fruits). Suppose that I need to grap out the fruits without looking at fruits before taking them out. How many fruits must I grap out to make sure that I will get a two of a kind ?"
      ]
    },
    {
      "metadata": {
        "id": "LN0IfQkl8JTo",
        "colab_type": "text"
      },
      "cell_type": "markdown",
      "source": [
        "### Answer :"
      ]
    },
    {
      "metadata": {
        "id": "1xoTV5G28N-P",
        "colab_type": "text"
      },
      "cell_type": "markdown",
      "source": [
        "Based on the question, we can figure out the each of the fruit kind is a `boxes, pigeonhole` and each fruit drawn being is `object , pigeon`\n",
        "\n",
        "According to the question above we can assume that in case graping 1, 2, 3, or 4 fruit(s), it is possible that all may be distinct fruits. Given a selection of let us say 4 fruit, it is likly that one is banana, one is orange one is strawberry ,and one is apple. However, if 5 fruits are chosen, the pigeon principle ensures that two ***must*** be the same. Hence the minimum number of fruit to be graped out is **5**.\n"
      ]
    },
    {
      "metadata": {
        "id": "fDD5H3Ci9TgM",
        "colab_type": "code",
        "colab": {
          "base_uri": "https://localhost:8080/",
          "height": 1102
        },
        "outputId": "731b4f6e-0899-4850-b792-a3dfbe8f060f"
      },
      "cell_type": "code",
      "source": [
        "# Preprocess - check entry\n",
        "def preProcess(num):\n",
        "\tif (w_number > 0)  and (w_number  < 9):\n",
        "\t\treturn True\n",
        "\telse:\n",
        "\t\treturn False\n",
        "#End of preProcess\n",
        "\n",
        "\t\n",
        "while True:\n",
        "\tbox = 4 # pigeonhole : number of fruit kinds (banana , apple , orange , and strawberry)\n",
        "\tprint(\"Please enter number of fruits withdrawals (Max : Number of fruits = 8 fruits : \")\n",
        "\tw_number = int(input())  # object , pigeon\n",
        "\tif preProcess(w_number) == True:\n",
        "\t\tif w_number <= box:\n",
        "\t\t\tprint(\" It is possible that all fruits may be distinct - no pigeonhole rule\")\n",
        "\t\telse:\n",
        "\t\t\tif w_number == 8:\n",
        "\t\t\t\tprint(\" all pair matched\")\n",
        "\t\t\telse:\n",
        "\t\t\t\tminimum = w_number % box\n",
        "\t\t\t\tprint(\" It is possible that \" + str(minimum) + \" pair matched\")\n",
        "\t\t\t\n",
        "\telse:\n",
        "\t\tprint(\"Range must be between 1 - 8 \")"
      ],
      "execution_count": 1,
      "outputs": [
        {
          "output_type": "stream",
          "text": [
            "Please enter number of fruits withdrawals (Max : Number of fruits = 8 fruits : \n",
            "5\n",
            " It is possible that 1 pair matched\n",
            "Please enter number of fruits withdrawals (Max : Number of fruits = 8 fruits : \n",
            "9\n",
            "Range must be between 1 - 8 \n",
            "Please enter number of fruits withdrawals (Max : Number of fruits = 8 fruits : \n",
            "8\n",
            " all pair matched\n",
            "Please enter number of fruits withdrawals (Max : Number of fruits = 8 fruits : \n"
          ],
          "name": "stdout"
        },
        {
          "output_type": "error",
          "ename": "KeyboardInterrupt",
          "evalue": "ignored",
          "traceback": [
            "\u001b[0;31m---------------------------------------------------------------------------\u001b[0m",
            "\u001b[0;31mKeyboardInterrupt\u001b[0m                         Traceback (most recent call last)",
            "\u001b[0;32m/usr/local/lib/python3.6/dist-packages/ipykernel/kernelbase.py\u001b[0m in \u001b[0;36m_input_request\u001b[0;34m(self, prompt, ident, parent, password)\u001b[0m\n\u001b[1;32m    729\u001b[0m             \u001b[0;32mtry\u001b[0m\u001b[0;34m:\u001b[0m\u001b[0;34m\u001b[0m\u001b[0;34m\u001b[0m\u001b[0m\n\u001b[0;32m--> 730\u001b[0;31m                 \u001b[0mident\u001b[0m\u001b[0;34m,\u001b[0m \u001b[0mreply\u001b[0m \u001b[0;34m=\u001b[0m \u001b[0mself\u001b[0m\u001b[0;34m.\u001b[0m\u001b[0msession\u001b[0m\u001b[0;34m.\u001b[0m\u001b[0mrecv\u001b[0m\u001b[0;34m(\u001b[0m\u001b[0mself\u001b[0m\u001b[0;34m.\u001b[0m\u001b[0mstdin_socket\u001b[0m\u001b[0;34m,\u001b[0m \u001b[0;36m0\u001b[0m\u001b[0;34m)\u001b[0m\u001b[0;34m\u001b[0m\u001b[0;34m\u001b[0m\u001b[0m\n\u001b[0m\u001b[1;32m    731\u001b[0m             \u001b[0;32mexcept\u001b[0m \u001b[0mException\u001b[0m\u001b[0;34m:\u001b[0m\u001b[0;34m\u001b[0m\u001b[0;34m\u001b[0m\u001b[0m\n",
            "\u001b[0;32m/usr/local/lib/python3.6/dist-packages/jupyter_client/session.py\u001b[0m in \u001b[0;36mrecv\u001b[0;34m(self, socket, mode, content, copy)\u001b[0m\n\u001b[1;32m    802\u001b[0m         \u001b[0;32mtry\u001b[0m\u001b[0;34m:\u001b[0m\u001b[0;34m\u001b[0m\u001b[0;34m\u001b[0m\u001b[0m\n\u001b[0;32m--> 803\u001b[0;31m             \u001b[0mmsg_list\u001b[0m \u001b[0;34m=\u001b[0m \u001b[0msocket\u001b[0m\u001b[0;34m.\u001b[0m\u001b[0mrecv_multipart\u001b[0m\u001b[0;34m(\u001b[0m\u001b[0mmode\u001b[0m\u001b[0;34m,\u001b[0m \u001b[0mcopy\u001b[0m\u001b[0;34m=\u001b[0m\u001b[0mcopy\u001b[0m\u001b[0;34m)\u001b[0m\u001b[0;34m\u001b[0m\u001b[0;34m\u001b[0m\u001b[0m\n\u001b[0m\u001b[1;32m    804\u001b[0m         \u001b[0;32mexcept\u001b[0m \u001b[0mzmq\u001b[0m\u001b[0;34m.\u001b[0m\u001b[0mZMQError\u001b[0m \u001b[0;32mas\u001b[0m \u001b[0me\u001b[0m\u001b[0;34m:\u001b[0m\u001b[0;34m\u001b[0m\u001b[0;34m\u001b[0m\u001b[0m\n",
            "\u001b[0;32m/usr/local/lib/python3.6/dist-packages/zmq/sugar/socket.py\u001b[0m in \u001b[0;36mrecv_multipart\u001b[0;34m(self, flags, copy, track)\u001b[0m\n\u001b[1;32m    465\u001b[0m         \"\"\"\n\u001b[0;32m--> 466\u001b[0;31m         \u001b[0mparts\u001b[0m \u001b[0;34m=\u001b[0m \u001b[0;34m[\u001b[0m\u001b[0mself\u001b[0m\u001b[0;34m.\u001b[0m\u001b[0mrecv\u001b[0m\u001b[0;34m(\u001b[0m\u001b[0mflags\u001b[0m\u001b[0;34m,\u001b[0m \u001b[0mcopy\u001b[0m\u001b[0;34m=\u001b[0m\u001b[0mcopy\u001b[0m\u001b[0;34m,\u001b[0m \u001b[0mtrack\u001b[0m\u001b[0;34m=\u001b[0m\u001b[0mtrack\u001b[0m\u001b[0;34m)\u001b[0m\u001b[0;34m]\u001b[0m\u001b[0;34m\u001b[0m\u001b[0;34m\u001b[0m\u001b[0m\n\u001b[0m\u001b[1;32m    467\u001b[0m         \u001b[0;31m# have first part already, only loop while more to receive\u001b[0m\u001b[0;34m\u001b[0m\u001b[0;34m\u001b[0m\u001b[0;34m\u001b[0m\u001b[0m\n",
            "\u001b[0;32mzmq/backend/cython/socket.pyx\u001b[0m in \u001b[0;36mzmq.backend.cython.socket.Socket.recv\u001b[0;34m()\u001b[0m\n",
            "\u001b[0;32mzmq/backend/cython/socket.pyx\u001b[0m in \u001b[0;36mzmq.backend.cython.socket.Socket.recv\u001b[0;34m()\u001b[0m\n",
            "\u001b[0;32mzmq/backend/cython/socket.pyx\u001b[0m in \u001b[0;36mzmq.backend.cython.socket._recv_copy\u001b[0;34m()\u001b[0m\n",
            "\u001b[0;32m/usr/local/lib/python3.6/dist-packages/zmq/backend/cython/checkrc.pxd\u001b[0m in \u001b[0;36mzmq.backend.cython.checkrc._check_rc\u001b[0;34m()\u001b[0m\n",
            "\u001b[0;31mKeyboardInterrupt\u001b[0m: ",
            "\nDuring handling of the above exception, another exception occurred:\n",
            "\u001b[0;31mKeyboardInterrupt\u001b[0m                         Traceback (most recent call last)",
            "\u001b[0;32m<ipython-input-1-96993be70490>\u001b[0m in \u001b[0;36m<module>\u001b[0;34m()\u001b[0m\n\u001b[1;32m     10\u001b[0m         \u001b[0mbox\u001b[0m \u001b[0;34m=\u001b[0m \u001b[0;36m4\u001b[0m \u001b[0;31m# pigeonhole : number of fruit kinds (banana , apple , orange , and strawberry)\u001b[0m\u001b[0;34m\u001b[0m\u001b[0;34m\u001b[0m\u001b[0m\n\u001b[1;32m     11\u001b[0m         \u001b[0mprint\u001b[0m\u001b[0;34m(\u001b[0m\u001b[0;34m\"Please enter number of fruits withdrawals (Max : Number of fruits = 8 fruits : \"\u001b[0m\u001b[0;34m)\u001b[0m\u001b[0;34m\u001b[0m\u001b[0;34m\u001b[0m\u001b[0m\n\u001b[0;32m---> 12\u001b[0;31m         \u001b[0mw_number\u001b[0m \u001b[0;34m=\u001b[0m \u001b[0mint\u001b[0m\u001b[0;34m(\u001b[0m\u001b[0minput\u001b[0m\u001b[0;34m(\u001b[0m\u001b[0;34m)\u001b[0m\u001b[0;34m)\u001b[0m  \u001b[0;31m# object , pigeon\u001b[0m\u001b[0;34m\u001b[0m\u001b[0;34m\u001b[0m\u001b[0m\n\u001b[0m\u001b[1;32m     13\u001b[0m         \u001b[0;32mif\u001b[0m \u001b[0mpreProcess\u001b[0m\u001b[0;34m(\u001b[0m\u001b[0mw_number\u001b[0m\u001b[0;34m)\u001b[0m \u001b[0;34m==\u001b[0m \u001b[0;32mTrue\u001b[0m\u001b[0;34m:\u001b[0m\u001b[0;34m\u001b[0m\u001b[0;34m\u001b[0m\u001b[0m\n\u001b[1;32m     14\u001b[0m                 \u001b[0;32mif\u001b[0m \u001b[0mw_number\u001b[0m \u001b[0;34m<=\u001b[0m \u001b[0mbox\u001b[0m\u001b[0;34m:\u001b[0m\u001b[0;34m\u001b[0m\u001b[0;34m\u001b[0m\u001b[0m\n",
            "\u001b[0;32m/usr/local/lib/python3.6/dist-packages/ipykernel/kernelbase.py\u001b[0m in \u001b[0;36mraw_input\u001b[0;34m(self, prompt)\u001b[0m\n\u001b[1;32m    703\u001b[0m             \u001b[0mself\u001b[0m\u001b[0;34m.\u001b[0m\u001b[0m_parent_ident\u001b[0m\u001b[0;34m,\u001b[0m\u001b[0;34m\u001b[0m\u001b[0;34m\u001b[0m\u001b[0m\n\u001b[1;32m    704\u001b[0m             \u001b[0mself\u001b[0m\u001b[0;34m.\u001b[0m\u001b[0m_parent_header\u001b[0m\u001b[0;34m,\u001b[0m\u001b[0;34m\u001b[0m\u001b[0;34m\u001b[0m\u001b[0m\n\u001b[0;32m--> 705\u001b[0;31m             \u001b[0mpassword\u001b[0m\u001b[0;34m=\u001b[0m\u001b[0;32mFalse\u001b[0m\u001b[0;34m,\u001b[0m\u001b[0;34m\u001b[0m\u001b[0;34m\u001b[0m\u001b[0m\n\u001b[0m\u001b[1;32m    706\u001b[0m         )\n\u001b[1;32m    707\u001b[0m \u001b[0;34m\u001b[0m\u001b[0m\n",
            "\u001b[0;32m/usr/local/lib/python3.6/dist-packages/ipykernel/kernelbase.py\u001b[0m in \u001b[0;36m_input_request\u001b[0;34m(self, prompt, ident, parent, password)\u001b[0m\n\u001b[1;32m    733\u001b[0m             \u001b[0;32mexcept\u001b[0m \u001b[0mKeyboardInterrupt\u001b[0m\u001b[0;34m:\u001b[0m\u001b[0;34m\u001b[0m\u001b[0;34m\u001b[0m\u001b[0m\n\u001b[1;32m    734\u001b[0m                 \u001b[0;31m# re-raise KeyboardInterrupt, to truncate traceback\u001b[0m\u001b[0;34m\u001b[0m\u001b[0;34m\u001b[0m\u001b[0;34m\u001b[0m\u001b[0m\n\u001b[0;32m--> 735\u001b[0;31m                 \u001b[0;32mraise\u001b[0m \u001b[0mKeyboardInterrupt\u001b[0m\u001b[0;34m\u001b[0m\u001b[0;34m\u001b[0m\u001b[0m\n\u001b[0m\u001b[1;32m    736\u001b[0m             \u001b[0;32melse\u001b[0m\u001b[0;34m:\u001b[0m\u001b[0;34m\u001b[0m\u001b[0;34m\u001b[0m\u001b[0m\n\u001b[1;32m    737\u001b[0m                 \u001b[0;32mbreak\u001b[0m\u001b[0;34m\u001b[0m\u001b[0;34m\u001b[0m\u001b[0m\n",
            "\u001b[0;31mKeyboardInterrupt\u001b[0m: "
          ]
        }
      ]
    }
  ]
}