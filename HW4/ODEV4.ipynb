{
  "nbformat": 4,
  "nbformat_minor": 0,
  "metadata": {
    "colab": {
      "name": "ODEV4.ipynb",
      "version": "0.3.2",
      "provenance": [],
      "collapsed_sections": []
    },
    "kernelspec": {
      "name": "python3",
      "display_name": "Python 3"
    }
  },
  "cells": [
    {
      "metadata": {
        "id": "ybtRr3Mw7qf4",
        "colab_type": "text"
      },
      "cell_type": "markdown",
      "source": [
        "# Probability Mass Function\n"
      ]
    },
    {
      "metadata": {
        "id": "7WCI3T5eu9Qg",
        "colab_type": "code",
        "colab": {
          "base_uri": "https://localhost:8080/",
          "height": 199
        },
        "outputId": "c79e4964-9898-4eab-ff14-676536646385"
      },
      "cell_type": "code",
      "source": [
        "import numpy as np\n",
        "import pandas as pd\n",
        "\n",
        "# S = {HHH , HHT, HTH, HTT, THH, THT, TTH, TTT}\n",
        "\n",
        "# X(HHH) = 3 heads\n",
        "# X(HHT) = X(HTH) = X(THH) = 2 heads\n",
        "# X(HTT) = X(THT) = X(TTH) = 1 head\n",
        "# X(TTT) = 0 heads\n",
        "\n",
        "S = np.array([3, 2, 2, 1, 2, 1, 1, 0])\n",
        "\n",
        "print(S)\n",
        "\n",
        "df = pd.DataFrame(S)\n",
        "\n",
        "df = pd.DataFrame(df[0].value_counts())\n",
        "df\n",
        "\n",
        "length = len(S)\n",
        "print(length)\n",
        "\n",
        "data = pd.DataFrame(df[0])\n",
        "\n",
        "data.columns = [\"Counts\"]\n",
        "\n",
        "#PMF\n",
        "data[\"Prob\"] = data[\"Counts\"]/length\n",
        "\n",
        "data\n",
        "\n"
      ],
      "execution_count": 21,
      "outputs": [
        {
          "output_type": "stream",
          "text": [
            "[3 2 2 1 2 1 1 0]\n",
            "8\n"
          ],
          "name": "stdout"
        },
        {
          "output_type": "execute_result",
          "data": {
            "text/html": [
              "<div>\n",
              "<style scoped>\n",
              "    .dataframe tbody tr th:only-of-type {\n",
              "        vertical-align: middle;\n",
              "    }\n",
              "\n",
              "    .dataframe tbody tr th {\n",
              "        vertical-align: top;\n",
              "    }\n",
              "\n",
              "    .dataframe thead th {\n",
              "        text-align: right;\n",
              "    }\n",
              "</style>\n",
              "<table border=\"1\" class=\"dataframe\">\n",
              "  <thead>\n",
              "    <tr style=\"text-align: right;\">\n",
              "      <th></th>\n",
              "      <th>Counts</th>\n",
              "      <th>Prob</th>\n",
              "    </tr>\n",
              "  </thead>\n",
              "  <tbody>\n",
              "    <tr>\n",
              "      <th>2</th>\n",
              "      <td>3</td>\n",
              "      <td>0.375</td>\n",
              "    </tr>\n",
              "    <tr>\n",
              "      <th>1</th>\n",
              "      <td>3</td>\n",
              "      <td>0.375</td>\n",
              "    </tr>\n",
              "    <tr>\n",
              "      <th>3</th>\n",
              "      <td>1</td>\n",
              "      <td>0.125</td>\n",
              "    </tr>\n",
              "    <tr>\n",
              "      <th>0</th>\n",
              "      <td>1</td>\n",
              "      <td>0.125</td>\n",
              "    </tr>\n",
              "  </tbody>\n",
              "</table>\n",
              "</div>"
            ],
            "text/plain": [
              "   Counts   Prob\n",
              "2       3  0.375\n",
              "1       3  0.375\n",
              "3       1  0.125\n",
              "0       1  0.125"
            ]
          },
          "metadata": {
            "tags": []
          },
          "execution_count": 21
        }
      ]
    }
  ]
}