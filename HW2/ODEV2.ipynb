{
  "nbformat": 4,
  "nbformat_minor": 0,
  "metadata": {
    "colab": {
      "name": "ODEV2.ipynb",
      "version": "0.3.2",
      "provenance": [],
      "collapsed_sections": []
    },
    "kernelspec": {
      "name": "python3",
      "display_name": "Python 3"
    }
  },
  "cells": [
    {
      "metadata": {
        "id": "y6Erinrc6pu_",
        "colab_type": "code",
        "colab": {}
      },
      "cell_type": "code",
      "source": [
        ""
      ],
      "execution_count": 0,
      "outputs": []
    },
    {
      "metadata": {
        "id": "ybtRr3Mw7qf4",
        "colab_type": "text"
      },
      "cell_type": "markdown",
      "source": [
        "# Permutation Example"
      ]
    },
    {
      "metadata": {
        "id": "1nYQxJMr7vc8",
        "colab_type": "text"
      },
      "cell_type": "markdown",
      "source": [
        "## Ex 1"
      ]
    },
    {
      "metadata": {
        "id": "uA0oqU2S8Afw",
        "colab_type": "code",
        "colab": {}
      },
      "cell_type": "code",
      "source": [
        "import math \n",
        "# (H) (E) (LL) (O) : # of arrangement = 4!\n",
        "elements = 4\n",
        "\n",
        "# 4! = 4 X 3 X 2 X 1 = 24\n",
        "Answer = math.factorial(elements) \n",
        "print (\"  Number of arrangement of letters = \",end=\"\")\n",
        "print (Answer)\n"
      ],
      "execution_count": 0,
      "outputs": []
    },
    {
      "metadata": {
        "id": "7eTQgw5S72bU",
        "colab_type": "text"
      },
      "cell_type": "markdown",
      "source": [
        "## Ex 2"
      ]
    },
    {
      "metadata": {
        "id": "BpfFQXog9LfF",
        "colab_type": "code",
        "colab": {}
      },
      "cell_type": "code",
      "source": [
        "import math \n",
        "# (W1 W2 W3) (M1) (M2) (M3) (M4)\n",
        "overall_elements = 5\n",
        "# (W1 W2 W3)\n",
        "women_elements = 3\n",
        "\n",
        "\n",
        "# the TOTAL # of arrangement = overall_elements(5)! X  women_elements(3)! \n",
        "Answer = math.factorial(overall_elements) * math.factorial(women_elements)\n",
        "print (\"  Number of arrangement  = \",end=\"\")\n",
        "print (Answer)"
      ],
      "execution_count": 0,
      "outputs": []
    },
    {
      "metadata": {
        "id": "4YyXwpvX7j_I",
        "colab_type": "text"
      },
      "cell_type": "markdown",
      "source": [
        "# Combination Examples"
      ]
    },
    {
      "metadata": {
        "id": "jfHDbSnn7ndq",
        "colab_type": "text"
      },
      "cell_type": "markdown",
      "source": [
        "## Ex 1"
      ]
    },
    {
      "metadata": {
        "id": "Dvtoa9kd6rkt",
        "colab_type": "code",
        "colab": {}
      },
      "cell_type": "code",
      "source": [
        "import math \n",
        "# 10 numbers (0-9) CHOOSE 5 digits\t\n",
        "numbers = 10\n",
        "digits = 5\n",
        "\n",
        "# C(10,5) = 10!  / ( 10! - 5! ) (5!) \n",
        "Answer = math.factorial(numbers) / (math.factorial(numbers-digits) * math.factorial(digits))\n",
        "print (\" Your chances to win is 1 out of \",end=\"\")\n",
        "print (Answer)\n",
        "\n"
      ],
      "execution_count": 0,
      "outputs": []
    }
  ]
}